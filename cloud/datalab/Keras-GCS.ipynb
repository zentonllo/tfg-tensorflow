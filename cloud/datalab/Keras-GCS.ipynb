{
 "cells": [
  {
   "cell_type": "code",
   "execution_count": null,
   "metadata": {
    "collapsed": true
   },
   "outputs": [],
   "source": [
    "# Instalación desde cero de librerías de Python"
   ]
  },
  {
   "cell_type": "code",
   "execution_count": null,
   "metadata": {
    "collapsed": false
   },
   "outputs": [],
   "source": [
    "%%bash\n",
    "pip install --upgrade tensorflow\n",
    "pip install --upgrade sklearn\n",
    "\n",
    "# Si no funciona sklearn, hacer uninstall e install: pip uninstall scikit-learn\n",
    "#pip uninstall scikit-learn\n",
    "#pip install scikit-learn\n",
    "\n",
    "# Comprobar paquetes instalados con:\n",
    "# !pip freeze\n",
    "\n"
   ]
  },
  {
   "cell_type": "code",
   "execution_count": 1,
   "metadata": {
    "collapsed": false
   },
   "outputs": [],
   "source": [
    "# Ejemplo de importar csv desde GCS\n",
    "\n",
    "\n",
    "import pandas as pd\n",
    "from StringIO import StringIO\n",
    "from sklearn.model_selection import train_test_split\n",
    "from __future__ import print_function, division\n",
    "\n",
    "# Read csv file from GCS into a variable\n",
    "%storage read --object gs://analiticauniversal/DatasetsTF/creditcards.csv --variable creditcards\n",
    "\n",
    "\n",
    "# Store in a pandas dataframe\n",
    "\n",
    "df = pd.read_csv(StringIO(creditcards))\n",
    "dataset = df.as_matrix().astype(float)\n",
    "\n",
    "TRAIN_SIZE = 0.8\n",
    "VAL_SIZE = 0.1\n",
    "TEST_SIZE = 0.1\n",
    "\n",
    "X_train, X_test, y_train, y_test = train_test_split(dataset[:,:-1], dataset[:,-1], test_size=TEST_SIZE)\n",
    "\n",
    "X_train, X_val, y_train, y_val = train_test_split(X_train, y_train, test_size=VAL_SIZE/TRAIN_SIZE)"
   ]
  },
  {
   "cell_type": "code",
   "execution_count": 18,
   "metadata": {
    "collapsed": false
   },
   "outputs": [
    {
     "data": {
      "text/plain": [
       "(224284, 30)"
      ]
     },
     "execution_count": 18,
     "metadata": {},
     "output_type": "execute_result"
    }
   ],
   "source": [
    "X_train.shape"
   ]
  },
  {
   "cell_type": "code",
   "execution_count": 19,
   "metadata": {
    "collapsed": false
   },
   "outputs": [
    {
     "data": {
      "text/plain": [
       "(32041, 30)"
      ]
     },
     "execution_count": 19,
     "metadata": {},
     "output_type": "execute_result"
    }
   ],
   "source": [
    "X_val.shape"
   ]
  },
  {
   "cell_type": "code",
   "execution_count": 21,
   "metadata": {
    "collapsed": false
   },
   "outputs": [
    {
     "data": {
      "text/plain": [
       "(28481, 30)"
      ]
     },
     "execution_count": 21,
     "metadata": {},
     "output_type": "execute_result"
    }
   ],
   "source": [
    "X_test.shape"
   ]
  },
  {
   "cell_type": "code",
   "execution_count": 2,
   "metadata": {
    "collapsed": false
   },
   "outputs": [],
   "source": [
    "import numpy as np\n",
    "import tensorflow\n",
    "import tensorflow as tf\n",
    "import sys\n"
   ]
  },
  {
   "cell_type": "code",
   "execution_count": 3,
   "metadata": {
    "collapsed": false
   },
   "outputs": [],
   "source": [
    "from tensorflow.contrib.keras.python.keras.regularizers import l1,l2\n",
    "from tensorflow.contrib.keras.python.keras.models import Sequential, load_model\n",
    "from tensorflow.contrib.keras.python.keras.layers import Dense, Dropout, Activation\n",
    "from tensorflow.contrib.keras.python.keras.constraints import max_norm\n",
    "from tensorflow.contrib.keras.python.keras.optimizers import RMSprop, Adam\n",
    "from tensorflow.contrib.keras.python.keras.layers.normalization import BatchNormalization\n",
    "from tensorflow.contrib.keras.python.keras.callbacks import CSVLogger, TensorBoard, EarlyStopping\n",
    "from sklearn.metrics import roc_auc_score\n",
    "from datetime import datetime\n",
    "from os.path import abspath\n",
    "import os\n",
    "\n",
    "\n",
    "# Disable info warnings from TF\n",
    "os.environ['TF_CPP_MIN_LOG_LEVEL']='2'\n"
   ]
  },
  {
   "cell_type": "code",
   "execution_count": 4,
   "metadata": {
    "collapsed": true
   },
   "outputs": [],
   "source": [
    "# Creamos jerarquía en Storage y en Local (Compute Engine)\n",
    "# Usar os.path.join mejor que '/'\n",
    "\n",
    "NOW = datetime.now().strftime(\"%Y-%m-%d--%Hh%Mm%Ss\")\n",
    "ROOT_LOGDIR = 'gs://analiticauniversal/LogsTF'\n",
    "LOG_DIR = '{}/run-{}'.format(ROOT_LOGDIR, NOW)\n",
    "OUTPUT_FILE = LOG_DIR + '/results.txt'\n",
    "\n",
    "# ¿Por qué no lo veo en consola ssh?\n",
    "ROOT_DATALAB = '/mnt/disks/datalab-pd/content/datalab/docs/analiticauniversal/NotebooksTF/Logs'\n",
    "LOCAL_DIR = '{}/run-{}'.format(ROOT_DATALAB,NOW)\n",
    "CSV_LOG = LOCAL_DIR + '/training.log'\n",
    "\n",
    "if tf.gfile.Exists(LOG_DIR):\n",
    "    tf.gfile.DeleteRecursively(LOG_DIR)\n",
    "tf.gfile.MakeDirs(LOG_DIR)\n",
    "\n",
    "if tf.gfile.Exists(LOCAL_DIR):\n",
    "    tf.gfile.DeleteRecursively(LOCAL_DIR)\n",
    "tf.gfile.MakeDirs(LOCAL_DIR)\n"
   ]
  },
  {
   "cell_type": "code",
   "execution_count": 5,
   "metadata": {
    "collapsed": true
   },
   "outputs": [],
   "source": [
    "# Hyperparameters\n",
    "batch_size = 500\n",
    "epochs = 50\n",
    "dropout_rate = 0.5\n",
    "\n",
    "# Parameters for early stopping (increase them when using auc scores)\n",
    "DELTA = 1e-6\n",
    "PATIENCE = 20"
   ]
  },
  {
   "cell_type": "code",
   "execution_count": 6,
   "metadata": {
    "collapsed": true
   },
   "outputs": [],
   "source": [
    "csv_logger = CSVLogger(CSV_LOG)\n",
    "early_stopping = EarlyStopping(min_delta = DELTA, patience = PATIENCE )\n",
    "tb = TensorBoard(log_dir = LOCAL_DIR,histogram_freq = 1, \n",
    "                 write_graph = True, write_images = False)"
   ]
  },
  {
   "cell_type": "code",
   "execution_count": 9,
   "metadata": {
    "collapsed": false
   },
   "outputs": [
    {
     "name": "stdout",
     "output_type": "stream",
     "text": [
      "_________________________________________________________________\n",
      "Layer (type)                 Output Shape              Param #   \n",
      "=================================================================\n",
      "dense_3 (Dense)              (None, 3)                 93        \n",
      "_________________________________________________________________\n",
      "batch_normalization_2 (Batch (None, 3)                 12        \n",
      "_________________________________________________________________\n",
      "activation_2 (Activation)    (None, 3)                 0         \n",
      "_________________________________________________________________\n",
      "dropout_2 (Dropout)          (None, 3)                 0         \n",
      "_________________________________________________________________\n",
      "dense_4 (Dense)              (None, 2)                 8         \n",
      "=================================================================\n",
      "Total params: 113.0\n",
      "Trainable params: 107.0\n",
      "Non-trainable params: 6.0\n",
      "_________________________________________________________________\n"
     ]
    }
   ],
   "source": [
    "# 30 variables entrada\n",
    "input_dim = dataset.shape[1] - 1\n",
    "num_classes = 2\n",
    "\n",
    "model = Sequential()\n",
    "\n",
    "model.add(Dense(10,input_shape=(input_dim,), kernel_initializer='he_normal'))\n",
    "#model.add(BatchNormalization())\n",
    "model.add(Activation('elu'))\n",
    "#model.add(Dropout(dropout_rate))\n",
    "model.add(Dense(num_classes, activation='softmax'))\n",
    "\n",
    "model.summary()"
   ]
  },
  {
   "cell_type": "code",
   "execution_count": 8,
   "metadata": {
    "collapsed": false
   },
   "outputs": [
    {
     "name": "stdout",
     "output_type": "stream",
     "text": [
      "Train on 224284 samples, validate on 32041 samples\n",
      "INFO:tensorflow:Summary name dense_1/kernel:0 is illegal; using dense_1/kernel_0 instead.\n",
      "INFO:tensorflow:Summary name dense_1/bias:0 is illegal; using dense_1/bias_0 instead.\n",
      "INFO:tensorflow:Summary name batch_normalization_1/gamma:0 is illegal; using batch_normalization_1/gamma_0 instead.\n",
      "INFO:tensorflow:Summary name batch_normalization_1/beta:0 is illegal; using batch_normalization_1/beta_0 instead.\n",
      "INFO:tensorflow:Summary name batch_normalization_1/moving_mean:0 is illegal; using batch_normalization_1/moving_mean_0 instead.\n",
      "INFO:tensorflow:Summary name batch_normalization_1/moving_variance:0 is illegal; using batch_normalization_1/moving_variance_0 instead.\n",
      "INFO:tensorflow:Summary name dense_2/kernel:0 is illegal; using dense_2/kernel_0 instead.\n",
      "INFO:tensorflow:Summary name dense_2/bias:0 is illegal; using dense_2/bias_0 instead.\n",
      "Epoch 1/100\n",
      "224284/224284 [==============================] - 1s - loss: 0.4663 - acc: 0.8584 - val_loss: 0.2265 - val_acc: 0.9978\n",
      "Epoch 2/100\n",
      "224284/224284 [==============================] - 1s - loss: 0.1816 - acc: 0.9888 - val_loss: 0.0445 - val_acc: 0.9978\n",
      "Epoch 3/100\n",
      "224284/224284 [==============================] - 1s - loss: 0.0797 - acc: 0.9984 - val_loss: 0.0213 - val_acc: 0.9978\n",
      "Epoch 4/100\n",
      "224284/224284 [==============================] - 1s - loss: 0.0531 - acc: 0.9984 - val_loss: 0.0165 - val_acc: 0.9978\n",
      "Epoch 5/100\n",
      "224284/224284 [==============================] - 1s - loss: 0.0380 - acc: 0.9984 - val_loss: 0.0158 - val_acc: 0.9978\n",
      "Epoch 6/100\n",
      "224284/224284 [==============================] - 1s - loss: 0.0301 - acc: 0.9984 - val_loss: 0.0166 - val_acc: 0.9978\n",
      "Epoch 7/100\n",
      "224284/224284 [==============================] - 1s - loss: 0.0274 - acc: 0.9984 - val_loss: 0.0162 - val_acc: 0.9978\n",
      "Epoch 8/100\n",
      "224284/224284 [==============================] - 1s - loss: 0.0250 - acc: 0.9984 - val_loss: 0.0162 - val_acc: 0.9978\n",
      "Epoch 9/100\n",
      "224284/224284 [==============================] - 1s - loss: 0.0230 - acc: 0.9984 - val_loss: 0.0165 - val_acc: 0.9978\n",
      "Epoch 10/100\n",
      "224284/224284 [==============================] - 1s - loss: 0.0212 - acc: 0.9984 - val_loss: 0.0161 - val_acc: 0.9978\n",
      "Epoch 11/100\n",
      "224284/224284 [==============================] - 1s - loss: 0.0193 - acc: 0.9984 - val_loss: 0.0176 - val_acc: 0.9978\n",
      "Epoch 12/100\n",
      "224284/224284 [==============================] - 1s - loss: 0.0179 - acc: 0.9984 - val_loss: 0.0156 - val_acc: 0.9978\n",
      "Epoch 13/100\n",
      "224284/224284 [==============================] - 1s - loss: 0.0171 - acc: 0.9984 - val_loss: 0.0160 - val_acc: 0.9978\n",
      "Epoch 14/100\n",
      "224284/224284 [==============================] - 1s - loss: 0.0162 - acc: 0.9984 - val_loss: 0.0160 - val_acc: 0.9978\n",
      "Epoch 15/100\n",
      "224284/224284 [==============================] - 1s - loss: 0.0151 - acc: 0.9984 - val_loss: 0.0159 - val_acc: 0.9978\n",
      "Epoch 16/100\n",
      "224284/224284 [==============================] - 1s - loss: 0.0144 - acc: 0.9984 - val_loss: 0.0162 - val_acc: 0.9978\n",
      "Epoch 17/100\n",
      "224284/224284 [==============================] - 1s - loss: 0.0140 - acc: 0.9984 - val_loss: 0.0157 - val_acc: 0.9978\n",
      "Epoch 18/100\n",
      "224284/224284 [==============================] - 1s - loss: 0.0133 - acc: 0.9984 - val_loss: 0.0158 - val_acc: 0.9978\n",
      "Epoch 19/100\n",
      "224284/224284 [==============================] - 1s - loss: 0.0128 - acc: 0.9984 - val_loss: 0.0155 - val_acc: 0.9978\n",
      "Epoch 20/100\n",
      "224284/224284 [==============================] - 1s - loss: 0.0126 - acc: 0.9984 - val_loss: 0.0153 - val_acc: 0.9978\n",
      "Epoch 21/100\n",
      "224284/224284 [==============================] - 1s - loss: 0.0116 - acc: 0.9984 - val_loss: 0.0189 - val_acc: 0.9978\n",
      "Epoch 22/100\n",
      "224284/224284 [==============================] - 1s - loss: 0.0116 - acc: 0.9984 - val_loss: 0.0153 - val_acc: 0.9978\n",
      "Epoch 23/100\n",
      "224284/224284 [==============================] - 1s - loss: 0.0107 - acc: 0.9984 - val_loss: 0.0147 - val_acc: 0.9978\n",
      "Epoch 24/100\n",
      "224284/224284 [==============================] - 1s - loss: 0.0101 - acc: 0.9984 - val_loss: 0.0201 - val_acc: 0.9978\n",
      "Epoch 25/100\n",
      "224284/224284 [==============================] - 1s - loss: 0.0104 - acc: 0.9984 - val_loss: 0.0140 - val_acc: 0.9978\n",
      "Epoch 26/100\n",
      "224284/224284 [==============================] - 1s - loss: 0.0090 - acc: 0.9984 - val_loss: 0.0135 - val_acc: 0.9978\n",
      "Epoch 27/100\n",
      "224284/224284 [==============================] - 1s - loss: 0.0085 - acc: 0.9985 - val_loss: 0.0114 - val_acc: 0.9978\n",
      "Epoch 28/100\n",
      "224284/224284 [==============================] - 1s - loss: 0.0100 - acc: 0.9984 - val_loss: 0.0145 - val_acc: 0.9978\n",
      "Epoch 29/100\n",
      "224284/224284 [==============================] - 1s - loss: 0.0090 - acc: 0.9984 - val_loss: 0.0119 - val_acc: 0.9978\n",
      "Epoch 30/100\n",
      "224284/224284 [==============================] - 1s - loss: 0.0087 - acc: 0.9985 - val_loss: 0.0163 - val_acc: 0.9978\n",
      "Epoch 31/100\n",
      "224284/224284 [==============================] - 1s - loss: 0.0086 - acc: 0.9986 - val_loss: 0.0105 - val_acc: 0.9978\n",
      "Epoch 32/100\n",
      "224284/224284 [==============================] - 1s - loss: 0.0078 - acc: 0.9986 - val_loss: 0.0132 - val_acc: 0.9978\n",
      "Epoch 33/100\n",
      "224284/224284 [==============================] - 1s - loss: 0.0081 - acc: 0.9986 - val_loss: 0.0178 - val_acc: 0.9978\n",
      "Epoch 34/100\n",
      "224284/224284 [==============================] - 1s - loss: 0.0088 - acc: 0.9985 - val_loss: 0.0143 - val_acc: 0.9978\n",
      "Epoch 35/100\n",
      "224284/224284 [==============================] - 1s - loss: 0.0083 - acc: 0.9986 - val_loss: 0.0124 - val_acc: 0.9978\n",
      "Epoch 36/100\n",
      "224284/224284 [==============================] - 1s - loss: 0.0085 - acc: 0.9985 - val_loss: 0.0119 - val_acc: 0.9978\n",
      "Epoch 37/100\n",
      "224284/224284 [==============================] - 1s - loss: 0.0083 - acc: 0.9986 - val_loss: 0.0105 - val_acc: 0.9978\n",
      "Epoch 38/100\n",
      "224284/224284 [==============================] - 1s - loss: 0.0075 - acc: 0.9986 - val_loss: 0.0099 - val_acc: 0.9979\n",
      "Epoch 39/100\n",
      "224284/224284 [==============================] - 1s - loss: 0.0074 - acc: 0.9986 - val_loss: 0.0085 - val_acc: 0.9981\n",
      "Epoch 40/100\n",
      "224284/224284 [==============================] - 1s - loss: 0.0074 - acc: 0.9987 - val_loss: 0.0091 - val_acc: 0.9981\n",
      "Epoch 41/100\n",
      "224284/224284 [==============================] - 1s - loss: 0.0074 - acc: 0.9986 - val_loss: 0.0103 - val_acc: 0.9978\n",
      "Epoch 42/100\n",
      "224284/224284 [==============================] - 1s - loss: 0.0080 - acc: 0.9986 - val_loss: 0.0118 - val_acc: 0.9978\n",
      "Epoch 43/100\n",
      "224284/224284 [==============================] - 1s - loss: 0.0074 - acc: 0.9986 - val_loss: 0.0136 - val_acc: 0.9978\n",
      "Epoch 44/100\n",
      "224284/224284 [==============================] - 1s - loss: 0.0077 - acc: 0.9986 - val_loss: 0.0120 - val_acc: 0.9978\n",
      "Epoch 45/100\n",
      "224284/224284 [==============================] - 1s - loss: 0.0077 - acc: 0.9986 - val_loss: 0.0096 - val_acc: 0.9978\n",
      "Epoch 46/100\n",
      "224284/224284 [==============================] - 1s - loss: 0.0077 - acc: 0.9986 - val_loss: 0.0102 - val_acc: 0.9978\n",
      "Epoch 47/100\n",
      "224284/224284 [==============================] - 1s - loss: 0.0083 - acc: 0.9986 - val_loss: 0.0157 - val_acc: 0.9978\n",
      "Epoch 48/100\n",
      "224284/224284 [==============================] - 1s - loss: 0.0087 - acc: 0.9986 - val_loss: 0.0162 - val_acc: 0.9978\n",
      "Epoch 49/100\n",
      "224284/224284 [==============================] - 1s - loss: 0.0075 - acc: 0.9986 - val_loss: 0.0180 - val_acc: 0.9981\n",
      "Epoch 50/100\n",
      "224284/224284 [==============================] - 1s - loss: 0.0078 - acc: 0.9986 - val_loss: 0.0117 - val_acc: 0.9978\n",
      "Epoch 51/100\n",
      "224284/224284 [==============================] - 1s - loss: 0.0075 - acc: 0.9986 - val_loss: 0.0129 - val_acc: 0.9978\n",
      "Epoch 52/100\n",
      "224284/224284 [==============================] - 1s - loss: 0.0070 - acc: 0.9988 - val_loss: 0.0151 - val_acc: 0.9978\n",
      "Epoch 53/100\n",
      "224284/224284 [==============================] - 1s - loss: 0.0076 - acc: 0.9987 - val_loss: 0.0083 - val_acc: 0.9980\n",
      "Epoch 54/100\n",
      "224284/224284 [==============================] - 1s - loss: 0.0070 - acc: 0.9987 - val_loss: 0.0290 - val_acc: 0.9983\n",
      "Epoch 55/100\n",
      "224284/224284 [==============================] - 1s - loss: 0.0080 - acc: 0.9986 - val_loss: 0.0153 - val_acc: 0.9978\n",
      "Epoch 56/100\n",
      "224284/224284 [==============================] - 1s - loss: 0.0072 - acc: 0.9987 - val_loss: 0.0122 - val_acc: 0.9978\n",
      "Epoch 57/100\n",
      "224284/224284 [==============================] - 1s - loss: 0.0069 - acc: 0.9987 - val_loss: 0.0105 - val_acc: 0.9981\n",
      "Epoch 58/100\n",
      "224284/224284 [==============================] - 1s - loss: 0.0082 - acc: 0.9987 - val_loss: 0.0139 - val_acc: 0.9978\n",
      "Epoch 59/100\n",
      "224284/224284 [==============================] - 1s - loss: 0.0070 - acc: 0.9988 - val_loss: 0.0086 - val_acc: 0.9980\n",
      "Epoch 60/100\n",
      "224284/224284 [==============================] - 1s - loss: 0.0072 - acc: 0.9988 - val_loss: 0.0098 - val_acc: 0.9981\n",
      "Epoch 61/100\n",
      "224284/224284 [==============================] - 1s - loss: 0.0068 - acc: 0.9988 - val_loss: 0.0079 - val_acc: 0.9981\n",
      "Epoch 62/100\n",
      "224284/224284 [==============================] - 1s - loss: 0.0072 - acc: 0.9987 - val_loss: 0.0077 - val_acc: 0.9980\n",
      "Epoch 63/100\n",
      "224284/224284 [==============================] - 1s - loss: 0.0071 - acc: 0.9988 - val_loss: 0.0074 - val_acc: 0.9980\n",
      "Epoch 64/100\n",
      "224284/224284 [==============================] - 1s - loss: 0.0070 - acc: 0.9988 - val_loss: 0.0176 - val_acc: 0.9978\n",
      "Epoch 65/100\n",
      "224284/224284 [==============================] - 1s - loss: 0.0075 - acc: 0.9987 - val_loss: 0.0180 - val_acc: 0.9978\n",
      "Epoch 66/100\n",
      "224284/224284 [==============================] - 1s - loss: 0.0070 - acc: 0.9988 - val_loss: 0.0078 - val_acc: 0.9981\n",
      "Epoch 67/100\n",
      "224284/224284 [==============================] - 1s - loss: 0.0066 - acc: 0.9988 - val_loss: 0.0073 - val_acc: 0.9982\n",
      "Epoch 68/100\n",
      "224284/224284 [==============================] - 1s - loss: 0.0069 - acc: 0.9988 - val_loss: 0.0098 - val_acc: 0.9981\n",
      "Epoch 69/100\n",
      "224284/224284 [==============================] - 1s - loss: 0.0067 - acc: 0.9988 - val_loss: 0.0761 - val_acc: 0.9985\n",
      "Epoch 70/100\n",
      "224284/224284 [==============================] - 1s - loss: 0.0071 - acc: 0.9987 - val_loss: 0.0106 - val_acc: 0.9981\n",
      "Epoch 71/100\n",
      "224284/224284 [==============================] - 1s - loss: 0.0068 - acc: 0.9988 - val_loss: 0.0104 - val_acc: 0.9981\n",
      "Epoch 72/100\n",
      "224284/224284 [==============================] - 1s - loss: 0.0076 - acc: 0.9987 - val_loss: 0.0274 - val_acc: 0.9979\n",
      "Epoch 73/100\n",
      "224284/224284 [==============================] - 1s - loss: 0.0074 - acc: 0.9987 - val_loss: 0.0095 - val_acc: 0.9981\n",
      "Epoch 74/100\n",
      "224284/224284 [==============================] - 1s - loss: 0.0070 - acc: 0.9988 - val_loss: 0.0078 - val_acc: 0.9980\n",
      "Epoch 75/100\n",
      "224284/224284 [==============================] - 1s - loss: 0.0066 - acc: 0.9988 - val_loss: 0.0110 - val_acc: 0.9981\n",
      "Epoch 76/100\n",
      "224284/224284 [==============================] - 1s - loss: 0.0071 - acc: 0.9988 - val_loss: 0.0087 - val_acc: 0.9980\n",
      "Epoch 77/100\n",
      "224284/224284 [==============================] - 1s - loss: 0.0070 - acc: 0.9988 - val_loss: 0.0070 - val_acc: 0.9982\n",
      "Epoch 78/100\n",
      "224284/224284 [==============================] - 1s - loss: 0.0071 - acc: 0.9988 - val_loss: 0.0070 - val_acc: 0.9982\n",
      "Epoch 79/100\n",
      "224284/224284 [==============================] - 1s - loss: 0.0063 - acc: 0.9988 - val_loss: 0.0104 - val_acc: 0.9980\n",
      "Epoch 80/100\n",
      "224284/224284 [==============================] - 1s - loss: 0.0074 - acc: 0.9987 - val_loss: 0.0362 - val_acc: 0.9982\n",
      "Epoch 81/100\n",
      "224284/224284 [==============================] - 1s - loss: 0.0069 - acc: 0.9988 - val_loss: 0.0077 - val_acc: 0.9981\n",
      "Epoch 82/100\n",
      "224284/224284 [==============================] - 1s - loss: 0.0065 - acc: 0.9988 - val_loss: 0.0106 - val_acc: 0.9984\n",
      "Epoch 83/100\n",
      "224284/224284 [==============================] - 1s - loss: 0.0068 - acc: 0.9988 - val_loss: 0.0099 - val_acc: 0.9980\n",
      "Epoch 84/100\n",
      "224284/224284 [==============================] - 1s - loss: 0.0070 - acc: 0.9988 - val_loss: 0.0085 - val_acc: 0.9980\n",
      "Epoch 85/100\n",
      "224284/224284 [==============================] - 1s - loss: 0.0069 - acc: 0.9988 - val_loss: 0.0098 - val_acc: 0.9981\n",
      "Epoch 86/100\n",
      "224284/224284 [==============================] - 1s - loss: 0.0067 - acc: 0.9988 - val_loss: 0.0084 - val_acc: 0.9981\n",
      "Epoch 87/100\n",
      "224284/224284 [==============================] - 1s - loss: 0.0071 - acc: 0.9988 - val_loss: 0.0076 - val_acc: 0.9980\n",
      "Epoch 88/100\n",
      "224284/224284 [==============================] - 1s - loss: 0.0070 - acc: 0.9988 - val_loss: 0.0117 - val_acc: 0.9980\n",
      "Epoch 89/100\n",
      "224284/224284 [==============================] - 1s - loss: 0.0064 - acc: 0.9989 - val_loss: 0.0095 - val_acc: 0.9981\n",
      "Epoch 90/100\n",
      "224284/224284 [==============================] - 1s - loss: 0.0070 - acc: 0.9988 - val_loss: 0.0082 - val_acc: 0.9981\n",
      "Epoch 91/100\n",
      "224284/224284 [==============================] - 1s - loss: 0.0067 - acc: 0.9988 - val_loss: 0.0093 - val_acc: 0.9980\n",
      "Epoch 92/100\n",
      "224284/224284 [==============================] - 1s - loss: 0.0067 - acc: 0.9988 - val_loss: 0.0093 - val_acc: 0.9980\n",
      "Epoch 93/100\n",
      "224284/224284 [==============================] - 1s - loss: 0.0065 - acc: 0.9988 - val_loss: 0.0100 - val_acc: 0.9981\n",
      "Epoch 94/100\n",
      "224284/224284 [==============================] - 1s - loss: 0.0065 - acc: 0.9988 - val_loss: 0.0108 - val_acc: 0.9981\n",
      "Epoch 95/100\n",
      "224284/224284 [==============================] - 1s - loss: 0.0067 - acc: 0.9988 - val_loss: 0.0070 - val_acc: 0.9982\n",
      "Epoch 96/100\n",
      "224284/224284 [==============================] - 1s - loss: 0.0068 - acc: 0.9988 - val_loss: 0.0108 - val_acc: 0.9986\n",
      "Epoch 97/100\n",
      "224284/224284 [==============================] - 1s - loss: 0.0064 - acc: 0.9989 - val_loss: 0.0090 - val_acc: 0.9980\n",
      "Epoch 98/100\n",
      "224284/224284 [==============================] - 1s - loss: 0.0065 - acc: 0.9988 - val_loss: 0.0099 - val_acc: 0.9980\n",
      "Test loss: 0.00756008889455\n",
      "Test accuracy: 0.998384888171 \n",
      "\n",
      "Test AUC: 96.3864557561\n"
     ]
    }
   ],
   "source": [
    "# Entrenamos el modelo\n",
    "\n",
    "model.compile(loss='sparse_categorical_crossentropy',\n",
    "              optimizer=Adam(),\n",
    "              metrics=['accuracy'])\n",
    "\n",
    "\n",
    "history = model.fit(X_train, y_train,\n",
    "                    batch_size=batch_size,\n",
    "                    epochs=epochs,\n",
    "                    verbose=1,\n",
    "                    validation_data=(X_val, y_val),\n",
    "                    callbacks=[csv_logger, early_stopping, tb])\n",
    "\n",
    "\n",
    "score = model.evaluate(X_test, y_test, verbose=0)\n",
    "print('Test loss:', score[0])\n",
    "print('Test accuracy:', score[1], \"\\n\")\n",
    "\n",
    "\n",
    "\n",
    "y_pred = model.predict_proba(X_test, verbose = 0)\n",
    "y_score = y_pred[:,1]\n",
    "auc = roc_auc_score(y_true=y_test, y_score=y_score)\n",
    "auc *=100\n",
    "print(\"Test AUC:\", auc)\n",
    "\n",
    "\n",
    "\n"
   ]
  },
  {
   "cell_type": "code",
   "execution_count": 10,
   "metadata": {
    "collapsed": true
   },
   "outputs": [],
   "source": [
    "sys.stdout = tf.gfile.Open(name=OUTPUT_FILE, mode='w')  \n",
    "json_string = model.to_json() \n",
    "print(\"Network structure (json format)\", \"\\n\")\n",
    "print(json_string, \"\\n\")\n",
    "print(\"Hyperparameters\", \"\\n\")\n",
    "print(\"Batch size:\", batch_size)\n",
    "print(\"Epochs:\", epochs)\n",
    "print(\"Dropout rate:\", dropout_rate, \"\\n\")\n",
    "model.summary()\n",
    "print('\\n','Test loss:', score[0])\n",
    "print('Test accuracy:', score[1]*100, '\\n')\n",
    "print('Test AUC:', auc)\n",
    "sys.stdout = sys.__stdout__"
   ]
  },
  {
   "cell_type": "code",
   "execution_count": 11,
   "metadata": {
    "collapsed": false
   },
   "outputs": [],
   "source": [
    "# Copia los outputs de Keras a GCS\n",
    "# Usar os.path.join mejor que '/'\n",
    "for filename in tf.gfile.ListDirectory(LOCAL_DIR):\n",
    "    tf.gfile.Copy(oldpath=LOCAL_DIR + '/' + filename , newpath=LOG_DIR + '/' +  filename )"
   ]
  },
  {
   "cell_type": "code",
   "execution_count": 16,
   "metadata": {
    "collapsed": false
   },
   "outputs": [],
   "source": [
    "for filename in tf.gfile.ListDirectory(ROOT_DATALAB):\n",
    "    tf.gfile.DeleteRecursively(ROOT_DATALAB + '/' + filename)"
   ]
  },
  {
   "cell_type": "code",
   "execution_count": null,
   "metadata": {
    "collapsed": true
   },
   "outputs": [],
   "source": [
    "tf.gfile.ListDirectory(ROOT_DATALAB)"
   ]
  }
 ],
 "metadata": {
  "kernelspec": {
   "display_name": "Python 2",
   "language": "python",
   "name": "python2"
  },
  "language_info": {
   "codemirror_mode": {
    "name": "ipython",
    "version": 2
   },
   "file_extension": ".py",
   "mimetype": "text/x-python",
   "name": "python",
   "nbconvert_exporter": "python",
   "pygments_lexer": "ipython2",
   "version": "2.7.9"
  }
 },
 "nbformat": 4,
 "nbformat_minor": 2
}
