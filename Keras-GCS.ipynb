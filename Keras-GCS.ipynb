{
 "cells": [
  {
   "cell_type": "code",
   "execution_count": null,
   "metadata": {
    "collapsed": true
   },
   "outputs": [],
   "source": [
    "# Instalación desde cero de librerías de Python"
   ]
  },
  {
   "cell_type": "code",
   "execution_count": null,
   "metadata": {
    "collapsed": false
   },
   "outputs": [],
   "source": [
    "%%bash\n",
    "pip install --upgrade tensorflow\n",
    "pip install --upgrade sklearn\n",
    "\n",
    "# Si no funciona sklearn, hacer uninstall e install: pip uninstall scikit-learn\n",
    "#pip uninstall scikit-learn\n",
    "#pip install scikit-learn\n",
    "\n",
    "# Comprobar paquetes instalados con:\n",
    "# pip freeze\n",
    "\n"
   ]
  },
  {
   "cell_type": "code",
   "execution_count": 1,
   "metadata": {
    "collapsed": false
   },
   "outputs": [],
   "source": [
    "# Ejemplo de importar csv desde GCS\n",
    "\n",
    "\n",
    "import pandas as pd\n",
    "from StringIO import StringIO\n",
    "from sklearn.model_selection import train_test_split\n",
    "from __future__ import print_function\n",
    "\n",
    "# Read csv file from GCS into a variable\n",
    "%storage read --object gs://analiticauniversal/DatasetsTF/creditcards.csv --variable creditcards\n",
    "\n",
    "# Store in a pandas dataframe\n",
    "df = pd.read_csv(StringIO(creditcards))\n",
    "dataset = df.as_matrix()\n",
    "\n",
    "\n",
    "X_train, X_test, y_train, y_test = train_test_split(dataset[:,:-1], dataset[:,-1], test_size=0.1, random_state=1)\n",
    "\n",
    "X_train, X_val, y_train, y_val = train_test_split(X_train, y_train, test_size=0.1, random_state=1)"
   ]
  },
  {
   "cell_type": "code",
   "execution_count": 3,
   "metadata": {
    "collapsed": false
   },
   "outputs": [],
   "source": [
    "import numpy as np\n",
    "import tensorflow\n",
    "import tensorflow as tf\n",
    "import sys\n"
   ]
  },
  {
   "cell_type": "code",
   "execution_count": 4,
   "metadata": {
    "collapsed": false
   },
   "outputs": [],
   "source": [
    "from tensorflow.contrib.keras.python.keras.regularizers import l1,l2\n",
    "from tensorflow.contrib.keras.python.keras.models import Sequential, load_model\n",
    "from tensorflow.contrib.keras.python.keras.layers import Dense, Dropout, Activation\n",
    "from tensorflow.contrib.keras.python.keras.constraints import max_norm\n",
    "from tensorflow.contrib.keras.python.keras.optimizers import RMSprop, Adam\n",
    "from tensorflow.contrib.keras.python.keras.layers.normalization import BatchNormalization\n",
    "from tensorflow.contrib.keras.python.keras.callbacks import CSVLogger, TensorBoard, ModelCheckpoint, EarlyStopping\n",
    "from sklearn.metrics import roc_auc_score\n",
    "from datetime import datetime\n",
    "from os.path import abspath\n",
    "import os\n",
    "\n",
    "\n",
    "# Disable info warnings from TF\n",
    "os.environ['TF_CPP_MIN_LOG_LEVEL']='2'\n",
    "\n",
    "NOW = datetime.now().strftime(\"%Y-%m-%d--%Hh%Mm%Ss\")\n",
    "ROOT_LOGDIR = 'gs://analiticauniversal/LogsTF'\n",
    "LOG_DIR = '{}/run-{}'.format(ROOT_LOGDIR, NOW)\n",
    "OUTPUT_FILE = LOG_DIR + '/results.txt'\n",
    "\n",
    "LOCAL_DIR = '/run-{}'.format(NOW)\n",
    "CSV_LOG = LOCAL_DIR + '/training.log'\n",
    "CKPT = LOCAL_DIR + '/ckpt.hdf5'\n",
    "MODEL = LOCAL_DIR + '/model.h5'\n",
    "\n",
    "if tf.gfile.Exists(LOG_DIR):\n",
    "    tf.gfile.DeleteRecursively(LOG_DIR)\n",
    "tf.gfile.MakeDirs(LOG_DIR)\n",
    "\n",
    "if tf.gfile.Exists(LOCAL_DIR):\n",
    "    tf.gfile.DeleteRecursively(LOCAL_DIR)\n",
    "tf.gfile.MakeDirs(LOCAL_DIR)\n",
    "\n"
   ]
  },
  {
   "cell_type": "code",
   "execution_count": 5,
   "metadata": {
    "collapsed": true
   },
   "outputs": [],
   "source": [
    "# Hyperparameters\n",
    "batch_size = 500\n",
    "epochs = 10\n",
    "dropout_rate = 0.5\n",
    "\n",
    "# Parameters for early stopping (increase them when using auc scores)\n",
    "DELTA = 1e-6\n",
    "PATIENCE = 200\n",
    "\n",
    "# Auc callback interval\n",
    "AUCS_INTERVAL = 1"
   ]
  },
  {
   "cell_type": "code",
   "execution_count": 6,
   "metadata": {
    "collapsed": true
   },
   "outputs": [],
   "source": [
    "csv_logger = CSVLogger(CSV_LOG)\n",
    "early_stopping = EarlyStopping(min_delta = DELTA, patience = PATIENCE )\n",
    "#ckpt = ModelCheckpoint(filepath = CKPT, save_best_only = True)"
   ]
  },
  {
   "cell_type": "code",
   "execution_count": 8,
   "metadata": {
    "collapsed": false
   },
   "outputs": [
    {
     "name": "stdout",
     "output_type": "stream",
     "text": [
      "_________________________________________________________________\n",
      "Layer (type)                 Output Shape              Param #   \n",
      "=================================================================\n",
      "dense_1 (Dense)              (None, 5)                 155       \n",
      "_________________________________________________________________\n",
      "batch_normalization_1 (Batch (None, 5)                 20        \n",
      "_________________________________________________________________\n",
      "activation_1 (Activation)    (None, 5)                 0         \n",
      "_________________________________________________________________\n",
      "dropout_1 (Dropout)          (None, 5)                 0         \n",
      "_________________________________________________________________\n",
      "dense_2 (Dense)              (None, 2)                 12        \n",
      "=================================================================\n",
      "Total params: 187.0\n",
      "Trainable params: 177.0\n",
      "Non-trainable params: 10.0\n",
      "_________________________________________________________________\n",
      "Train on 230692 samples, validate on 25633 samples\n",
      "Epoch 1/10\n",
      "230692/230692 [==============================] - 1s - loss: 0.5443 - acc: 0.7634 - val_loss: 0.2500 - val_acc: 0.9981\n",
      "Epoch 2/10\n",
      "230692/230692 [==============================] - 1s - loss: 0.1652 - acc: 0.9878 - val_loss: 0.0577 - val_acc: 0.9981\n",
      "Epoch 3/10\n",
      "230692/230692 [==============================] - 1s - loss: 0.0627 - acc: 0.9976 - val_loss: 0.0236 - val_acc: 0.9981\n",
      "Epoch 4/10\n",
      "230692/230692 [==============================] - 1s - loss: 0.0348 - acc: 0.9982 - val_loss: 0.0136 - val_acc: 0.9981\n",
      "Epoch 5/10\n",
      "230692/230692 [==============================] - 1s - loss: 0.0264 - acc: 0.9982 - val_loss: 0.0134 - val_acc: 0.9981\n",
      "Epoch 6/10\n",
      "230692/230692 [==============================] - 1s - loss: 0.0221 - acc: 0.9983 - val_loss: 0.0122 - val_acc: 0.9981\n",
      "Epoch 7/10\n",
      "230692/230692 [==============================] - 1s - loss: 0.0205 - acc: 0.9983 - val_loss: 0.0117 - val_acc: 0.9981\n",
      "Epoch 8/10\n",
      "230692/230692 [==============================] - 1s - loss: 0.0199 - acc: 0.9983 - val_loss: 0.0138 - val_acc: 0.9981\n",
      "Epoch 9/10\n",
      "230692/230692 [==============================] - 1s - loss: 0.0190 - acc: 0.9982 - val_loss: 0.0141 - val_acc: 0.9981\n",
      "Epoch 10/10\n",
      "230692/230692 [==============================] - 1s - loss: 0.0186 - acc: 0.9983 - val_loss: 0.0138 - val_acc: 0.9981\n",
      "Test loss: 0.00985895400473\n",
      "Test accuracy: 0.998700888312 \n",
      "\n",
      "Test AUC: 63.0818450288\n"
     ]
    }
   ],
   "source": [
    "\n",
    "x_train = X_train\n",
    "y_train = y_train\n",
    "x_val = X_val\n",
    "y_val = y_val\n",
    "x_test = X_test\n",
    "y_test = y_test\n",
    "\n",
    "input_dim = dataset.shape[1] - 1\n",
    "num_classes = 2\n",
    "\n",
    "model = Sequential()\n",
    "#model.add(Dense(5,input_shape=(input_dim,), init='he_normal'))\n",
    "model.add(Dense(5,input_shape=(input_dim,)))\n",
    "model.add(BatchNormalization())\n",
    "model.add(Activation('elu'))\n",
    "model.add(Dropout(dropout_rate))\n",
    "model.add(Dense(num_classes, activation='softmax'))\n",
    "\n",
    "model.summary()\n",
    "\n",
    "model.compile(loss='sparse_categorical_crossentropy',\n",
    "              optimizer=Adam(),\n",
    "              metrics=['accuracy'])\n",
    "\n",
    "\n",
    "history = model.fit(x_train, y_train,\n",
    "                    batch_size=batch_size,\n",
    "                    epochs=epochs,\n",
    "                    verbose=1,\n",
    "                    validation_data=(x_val, y_val),\n",
    "                    callbacks=[csv_logger, early_stopping])\n",
    "\n",
    "\n",
    "score = model.evaluate(x_test, y_test, verbose=0)\n",
    "print('Test loss:', score[0])\n",
    "print('Test accuracy:', score[1], \"\\n\")\n",
    "\n",
    "\n",
    "\n",
    "y_pred = model.predict_proba(x_test, verbose = 0)\n",
    "y_score = y_pred[:,1]\n",
    "auc = roc_auc_score(y_true=y_test, y_score=y_score)\n",
    "auc *=100\n",
    "print(\"Test AUC:\", auc)\n",
    "\n",
    "\n",
    "\n"
   ]
  },
  {
   "cell_type": "code",
   "execution_count": 9,
   "metadata": {
    "collapsed": true
   },
   "outputs": [],
   "source": [
    "sys.stdout = tf.gfile.Open(name=OUTPUT_FILE, mode='w')  \n",
    "json_string = model.to_json() \n",
    "print(\"Network structure (json format)\", \"\\n\")\n",
    "print(json_string, \"\\n\")\n",
    "print(\"Hyperparameters\", \"\\n\")\n",
    "print(\"Batch size:\", batch_size)\n",
    "print(\"Epochs:\", epochs)\n",
    "print(\"Dropout rate:\", dropout_rate, \"\\n\")\n",
    "model.summary()\n",
    "\"\"\"\n",
    "print(\"Validation AUCs during training\", \"\\n\")\n",
    "for i in range(len(ival.aucs)):\n",
    "    print(\"\\t\",\"Epoch\", str(i), \"- val_auc:\", ival.aucs[i], \" - loss:\", ival.losses[i])\n",
    "\"\"\"\n",
    "print('\\n','Test loss:', score[0])\n",
    "print('Test accuracy:', score[1]*100, '\\n')\n",
    "print('Test AUC:', auc)\n",
    "sys.stdout = sys.__stdout__"
   ]
  },
  {
   "cell_type": "code",
   "execution_count": 10,
   "metadata": {
    "collapsed": false
   },
   "outputs": [],
   "source": [
    "tf.gfile.Copy(oldpath=CSV_LOG , newpath=LOG_DIR + '/training.log' )\n",
    "#tf.gfile.Copy(oldpath=CKPT , newpath=LOG_DIR + '/ckpt.hdf5' )\n",
    "\n"
   ]
  },
  {
   "cell_type": "code",
   "execution_count": 11,
   "metadata": {
    "collapsed": true
   },
   "outputs": [],
   "source": [
    "!rm -rf LOCAL_DIR"
   ]
  },
  {
   "cell_type": "code",
   "execution_count": null,
   "metadata": {
    "collapsed": true
   },
   "outputs": [],
   "source": []
  }
 ],
 "metadata": {
  "kernelspec": {
   "display_name": "Python 2",
   "language": "python",
   "name": "python2"
  },
  "language_info": {
   "codemirror_mode": {
    "name": "ipython",
    "version": 2
   },
   "file_extension": ".py",
   "mimetype": "text/x-python",
   "name": "python",
   "nbconvert_exporter": "python",
   "pygments_lexer": "ipython2",
   "version": "2.7.9"
  }
 },
 "nbformat": 4,
 "nbformat_minor": 2
}
