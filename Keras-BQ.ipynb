{
 "cells": [
  {
   "cell_type": "code",
   "execution_count": null,
   "metadata": {
    "collapsed": true
   },
   "outputs": [],
   "source": [
    "\"\"Con estos paquetes corre bien el notebook\n",
    "\n",
    "appdirs==1.4.3\n",
    "avro==1.8.1\n",
    "backports-abc==0.5\n",
    "backports.shutil-get-terminal-size==1.0.0\n",
    "beautifulsoup4==4.5.3\n",
    "bleach==2.0.0\n",
    "brewer2mpl==1.4.1\n",
    "bs4==0.0.1\n",
    "cachetools==2.0.0\n",
    "certifi==2017.4.17\n",
    "configparser==3.5.0\n",
    "crcmod==1.7\n",
    "cycler==0.10.0\n",
    "datalab==1.0.1\n",
    "decorator==4.0.11\n",
    "dill==0.2.6\n",
    "entrypoints==0.2.2\n",
    "enum34==1.1.6\n",
    "funcsigs==1.0.2\n",
    "functools32==3.2.3.post2\n",
    "future==0.16.0\n",
    "futures==3.0.5\n",
    "gapic-google-logging-v2==0.9.3\n",
    "gapic-google-pubsub-v1==0.9.3\n",
    "ggplot==0.6.8\n",
    "google-api-python-client==1.5.1\n",
    "google-apitools==0.5.9\n",
    "google-auth==1.0.0\n",
    "google-auth-httplib2==0.0.2\n",
    "google-cloud==0.19.0\n",
    "google-cloud-bigquery==0.22.1\n",
    "google-cloud-core==0.22.1\n",
    "google-cloud-dataflow==0.6.0\n",
    "google-gax==0.13.0\n",
    "googleapis-common-protos==1.5.2\n",
    "googledatastore==7.0.0\n",
    "grpc-google-logging-v2==0.9.3\n",
    "grpc-google-pubsub-v1==0.9.3\n",
    "grpcio==1.2.1\n",
    "html5lib==0.999999999\n",
    "httplib2==0.9.2\n",
    "ipykernel==4.5.2\n",
    "ipython==5.3.0\n",
    "ipython-genutils==0.2.0\n",
    "ipywidgets==6.0.0\n",
    "Jinja2==2.8\n",
    "jsonschema==2.6.0\n",
    "jupyter-client==5.0.1\n",
    "jupyter-core==4.3.0\n",
    "MarkupSafe==1.0\n",
    "matplotlib==1.5.3\n",
    "mistune==0.7.4\n",
    "mltoolbox-datalab-classification-and-regression==1.0.0\n",
    "mltoolbox-datalab-image-classification==0.1\n",
    "mock==2.0.0\n",
    "nbconvert==5.1.1\n",
    "nbformat==4.3.0\n",
    "nltk==3.2.1\n",
    "notebook==4.2.3\n",
    "numpy==1.12.1\n",
    "oauth2client==2.2.0\n",
    "packaging==16.8\n",
    "pandas==0.19.1\n",
    "pandas-profiling==1.4.0\n",
    "pandocfilters==1.4.1\n",
    "pathlib2==2.2.1\n",
    "patsy==0.4.1\n",
    "pbr==3.0.1\n",
    "pexpect==4.2.1\n",
    "pickleshare==0.7.4\n",
    "Pillow==3.4.1\n",
    "plotly==1.12.5\n",
    "ply==3.8\n",
    "prompt-toolkit==1.0.14\n",
    "proto-google-cloud-datastore-v1==0.90.0\n",
    "protobuf==3.3.0\n",
    "psutil==4.3.0\n",
    "ptyprocess==0.5.1\n",
    "pyasn1==0.2.3\n",
    "pyasn1-modules==0.0.8\n",
    "Pygments==2.1.3\n",
    "pyparsing==2.2.0\n",
    "python-dateutil==2.5.0\n",
    "pytz==2016.7\n",
    "PyYAML==3.11\n",
    "pyzmq==16.0.2\n",
    "requests==2.9.1\n",
    "rsa==3.4.2\n",
    "scandir==1.5\n",
    "scikit-learn==0.18.1\n",
    "scipy==0.18.0\n",
    "seaborn==0.7.0\n",
    "simplegeneric==0.8.1\n",
    "simplejson==3.10.0\n",
    "singledispatch==3.4.0.3\n",
    "six==1.10.0\n",
    "sklearn==0.0\n",
    "statsmodels==0.6.1\n",
    "sympy==0.7.6.1\n",
    "tensorflow==1.1.0\n",
    "tensorflow-transform==0.1.7\n",
    "terminado==0.6\n",
    "testpath==0.3\n",
    "tornado==4.4.2\n",
    "traitlets==4.3.2\n",
    "uritemplate==0.6\n",
    "wcwidth==0.1.7\n",
    "webencodings==0.5.1\n",
    "Werkzeug==0.12.2\n",
    "widgetsnbextension==2.0.0\n",
    "\n",
    "\n",
    "\n",
    "\"\""
   ]
  },
  {
   "cell_type": "code",
   "execution_count": null,
   "metadata": {
    "collapsed": false
   },
   "outputs": [],
   "source": [
    "%%bash \n",
    "pip install sklearn --upgrade\n",
    "pip install --upgrade tensorflow"
   ]
  },
  {
   "cell_type": "code",
   "execution_count": null,
   "metadata": {
    "collapsed": false
   },
   "outputs": [],
   "source": [
    "!pip uninstall tensorflow-transform"
   ]
  },
  {
   "cell_type": "code",
   "execution_count": null,
   "metadata": {
    "collapsed": false
   },
   "outputs": [],
   "source": [
    "# Ejemplo de llamada a la API de BQ\n",
    "\n",
    "import google.datalab.bigquery as bq\n",
    "\n",
    "total_births = bq.Query('SELECT CAST(source_year AS string) AS year, COUNT(is_male) AS birth_count FROM `publicdata.samples.natality` GROUP BY year ORDER BY year DESC LIMIT 15')\n",
    "df = total_births.execute(output_options=bq.QueryOutput.dataframe()).result()\n",
    "df.head(10)\n",
    "\n",
    "ax = df.plot(kind='bar',x='year',title='Total births by year')\n",
    "ax.set_xlabel('Year')\n",
    "ax.set_ylabel('Birth count')\n",
    "\n",
    "births_by_weekday = bq.Query('SELECT CAST(wday AS string) AS weekday, SUM(CASE WHEN is_male THEN 1 ELSE 0 END) AS male_births, SUM(CASE WHEN is_male THEN 0 ELSE 1 END) AS female_births FROM `publicdata.samples.natality` WHERE wday IS NOT NULL GROUP BY weekday ORDER BY weekday ASC')\n",
    "df2 = births_by_weekday.execute(output_options=bq.QueryOutput.dataframe()).result()\n",
    "\n",
    "df2 = births_by_weekday.execute(output_options=bq.QueryOutput.dataframe()).result()\n",
    "ax = df2.plot(kind='line',x='weekday',title='Births by weekday')\n",
    "ax.set_xlabel('Weekday')\n",
    "ax.set_ylabel('Total')\n",
    "|"
   ]
  },
  {
   "cell_type": "code",
   "execution_count": null,
   "metadata": {
    "collapsed": true
   },
   "outputs": [],
   "source": [
    "# Ejemplo de llamada 'mágica' a BQ\n",
    "\n",
    "import google.datalab.bigquery as bq\n",
    "import pandas as pd"
   ]
  },
  {
   "cell_type": "code",
   "execution_count": null,
   "metadata": {
    "collapsed": true
   },
   "outputs": [],
   "source": [
    "%%bq query -n taxi_queries\n",
    "SELECT trip_seconds, trip_miles, pickup_latitude, pickup_longitude, dropoff_latitude, dropoff_longitude, fare\n",
    "FROM `bigquery-public-data.chicago_taxi_trips.taxi_trips`\n",
    "WHERE trip_miles IS NOT NULL AND\n",
    "      trip_seconds IS NOT NULL AND\n",
    "      pickup_latitude IS NOT NULL AND \n",
    "      pickup_longitude IS NOT NULL AND\n",
    "      dropoff_latitude IS NOT NULL AND\n",
    "      dropoff_longitude IS NOT NULL AND  \n",
    "      fare IS NOT NULL\n",
    "LIMIT 300000\n",
    "\n"
   ]
  },
  {
   "cell_type": "code",
   "execution_count": null,
   "metadata": {
    "collapsed": false
   },
   "outputs": [],
   "source": [
    "df = taxi_queries.execute(output_options=bq.QueryOutput.dataframe()).result()"
   ]
  },
  {
   "cell_type": "code",
   "execution_count": null,
   "metadata": {
    "collapsed": false
   },
   "outputs": [],
   "source": [
    "import numpy as np\n",
    "import sklearn.model_selection as ms\n",
    "\n",
    "dataset = df.as_matrix()\n",
    "\n",
    "\n",
    "X_train, X_test, Y_train, Y_test = ms.train_test_split(dataset[:,:-1], dataset[:,-1], test_size=0.1, random_state=1)\n",
    "\n",
    "X_train, X_val, Y_train, Y_val = ms.train_test_split(X_train, Y_train, test_size=0.1, random_state=1)"
   ]
  },
  {
   "cell_type": "code",
   "execution_count": 137,
   "metadata": {
    "collapsed": true
   },
   "outputs": [],
   "source": [
    "import numpy as np\n",
    "#import tensorflow\n",
    "#import tensorflow as tf\n",
    "import sys\n",
    "#import tensorflow.contrib.keras as keras"
   ]
  },
  {
   "cell_type": "code",
   "execution_count": 138,
   "metadata": {
    "collapsed": false
   },
   "outputs": [],
   "source": [
    "#from tensorflow.contrib.keras import *"
   ]
  },
  {
   "cell_type": "code",
   "execution_count": 139,
   "metadata": {
    "collapsed": false
   },
   "outputs": [],
   "source": [
    "from tensorflow.contrib.keras.python.keras.regularizers import l1,l2\n",
    "from tensorflow.contrib.keras.python.keras.models import Sequential, load_model\n",
    "from tensorflow.contrib.keras.python.keras.layers import Dense, Dropout, Activation\n",
    "from tensorflow.contrib.keras.python.keras.constraints import max_norm\n",
    "from tensorflow.contrib.keras.python.keras.optimizers import RMSprop, Adam\n",
    "from tensorflow.contrib.keras.python.keras.layers.normalization import BatchNormalization\n",
    "import os\n",
    "\n",
    "# Disable info warnings from TF\n",
    "os.environ['TF_CPP_MIN_LOG_LEVEL']='2'\n",
    "\n",
    "\n"
   ]
  },
  {
   "cell_type": "code",
   "execution_count": 140,
   "metadata": {
    "collapsed": false
   },
   "outputs": [
    {
     "name": "stdout",
     "output_type": "stream",
     "text": [
      "_________________________________________________________________\n",
      "Layer (type)                 Output Shape              Param #   \n",
      "=================================================================\n",
      "dense_45 (Dense)             (None, 3)                 21        \n",
      "_________________________________________________________________\n",
      "batch_normalization_24 (Batc (None, 3)                 12        \n",
      "_________________________________________________________________\n",
      "activation_23 (Activation)   (None, 3)                 0         \n",
      "_________________________________________________________________\n",
      "dense_46 (Dense)             (None, 1)                 4         \n",
      "=================================================================\n",
      "Total params: 37.0\n",
      "Trainable params: 31.0\n",
      "Non-trainable params: 6.0\n",
      "_________________________________________________________________\n",
      "Train on 200 samples, validate on 200 samples\n",
      "Epoch 1/10\n",
      "200/200 [==============================] - 1s - loss: 86.9629 - mean_absolute_error: 8.2247 - mean_absolute_percentage_error: 96.2434 - val_loss: 405.9774 - val_mean_absolute_error: 19.0914 - val_mean_absolute_percentage_error: 242.7172\n",
      "Epoch 2/10\n",
      "200/200 [==============================] - 0s - loss: 86.3784 - mean_absolute_error: 8.1991 - mean_absolute_percentage_error: 95.9812 - val_loss: 268.2137 - val_mean_absolute_error: 15.3474 - val_mean_absolute_percentage_error: 192.2270\n",
      "Epoch 3/10\n",
      "200/200 [==============================] - 0s - loss: 85.7902 - mean_absolute_error: 8.1803 - mean_absolute_percentage_error: 95.9129 - val_loss: 208.6466 - val_mean_absolute_error: 13.4263 - val_mean_absolute_percentage_error: 166.4374\n",
      "Epoch 4/10\n",
      "200/200 [==============================] - 0s - loss: 85.0487 - mean_absolute_error: 8.1535 - mean_absolute_percentage_error: 95.7046 - val_loss: 174.0388 - val_mean_absolute_error: 12.1924 - val_mean_absolute_percentage_error: 150.1080\n",
      "Epoch 5/10\n",
      "200/200 [==============================] - 0s - loss: 84.7860 - mean_absolute_error: 8.1332 - mean_absolute_percentage_error: 95.4538 - val_loss: 148.7466 - val_mean_absolute_error: 11.2384 - val_mean_absolute_percentage_error: 137.9155\n",
      "Epoch 6/10\n",
      "200/200 [==============================] - 0s - loss: 83.2418 - mean_absolute_error: 8.1180 - mean_absolute_percentage_error: 95.9684 - val_loss: 130.8825 - val_mean_absolute_error: 10.5303 - val_mean_absolute_percentage_error: 129.1221\n",
      "Epoch 7/10\n",
      "200/200 [==============================] - 0s - loss: 80.7808 - mean_absolute_error: 8.1115 - mean_absolute_percentage_error: 97.4727 - val_loss: 124.0277 - val_mean_absolute_error: 10.2459 - val_mean_absolute_percentage_error: 125.6085\n",
      "Epoch 8/10\n",
      "200/200 [==============================] - 0s - loss: 80.3736 - mean_absolute_error: 8.0895 - mean_absolute_percentage_error: 97.2460 - val_loss: 119.4264 - val_mean_absolute_error: 10.0454 - val_mean_absolute_percentage_error: 123.0669\n",
      "Epoch 9/10\n",
      "200/200 [==============================] - 0s - loss: 79.9087 - mean_absolute_error: 8.0770 - mean_absolute_percentage_error: 97.1523 - val_loss: 115.7567 - val_mean_absolute_error: 9.8792 - val_mean_absolute_percentage_error: 120.9135\n",
      "Epoch 10/10\n",
      "200/200 [==============================] - 0s - loss: 79.6151 - mean_absolute_error: 8.0558 - mean_absolute_percentage_error: 96.8482 - val_loss: 112.6559 - val_mean_absolute_error: 9.7353 - val_mean_absolute_percentage_error: 119.0355\n",
      "('Test loss (mse):', 112.50017700195312)\n",
      "('Test mae:', 9.8074574661254879)\n",
      "('Test mape:', 118.59697204589844)\n"
     ]
    }
   ],
   "source": [
    "LIMIT = 200\n",
    "\n",
    "mask_train = Y_train < 20\n",
    "mask_val = Y_val < 20\n",
    "mask_test = Y_test < 20\n",
    "\n",
    "X_train = X_train[mask_train]\n",
    "Y_train = Y_train[mask_train]\n",
    "X_val = X_val[mask_val]\n",
    "Y_val = Y_val[mask_val]\n",
    "X_test = X_test[mask_test]\n",
    "Y_test = Y_test[mask_test]\n",
    "\n",
    "\n",
    "# Hyperparameters\n",
    "batch_size = 20\n",
    "epochs = 10\n",
    "dropout_rate = 0.5\n",
    "\n",
    "x_train = X_train[:LIMIT]\n",
    "y_train = Y_train[:LIMIT]\n",
    "x_val = X_val[:LIMIT]\n",
    "y_val = Y_val[:LIMIT]\n",
    "x_test = X_test[:LIMIT]\n",
    "y_test = Y_test[:LIMIT]\n",
    "\n",
    "input_dim = dataset.shape[1] - 1\n",
    "\n",
    "model = Sequential()\n",
    "#model.add(Dense(2,input_shape=(input_dim,), init='he_normal'))\n",
    "model.add(Dense(3,input_shape=(input_dim,)))\n",
    "\n",
    "model.add(BatchNormalization())\n",
    "model.add(Activation('elu'))\n",
    "#model.add(Dropout(dropout_rate))\n",
    "model.add(Dense(1))\n",
    "\n",
    "model.summary()\n",
    "\n",
    "model.compile(loss='mean_squared_error',\n",
    "              optimizer=Adam(),\n",
    "              metrics=[keras.metrics.mean_absolute_error, keras.metrics.mean_absolute_percentage_error])\n",
    "\n",
    "\n",
    "history = model.fit(x_train, y_train,\n",
    "                    batch_size=batch_size,\n",
    "                    epochs=epochs,\n",
    "                    verbose=1,\n",
    "                    validation_data=(x_val, y_val))\n",
    "\n",
    "\n",
    "score = model.evaluate(x_test, y_test, verbose=0)\n",
    "print('Test loss (mse):', score[0])\n",
    "print('Test mae:', score[1])\n",
    "print('Test mape:', score[2])\n",
    "\n",
    "y_pred = model.predict_proba(x_test, verbose = 0)\n",
    "\n",
    "\n"
   ]
  },
  {
   "cell_type": "code",
   "execution_count": null,
   "metadata": {
    "collapsed": false
   },
   "outputs": [],
   "source": [
    "import matplotlib.pyplot as plt\n",
    "\n",
    "fig, ax = plt.subplots()\n",
    "aux = y_pred[:LIMIT] - 4\n",
    "ax.scatter(y_test[:LIMIT], aux )\n",
    "ax.plot([0, 15], [0, 15], 'k--', lw=3)\n",
    "ax.set_title('Chicago taxi trips prediction')\n",
    "ax.set_xlabel('Measured')\n",
    "ax.set_ylabel('Predicted')\n",
    "plt.show()"
   ]
  },
  {
   "cell_type": "code",
   "execution_count": null,
   "metadata": {
    "collapsed": false
   },
   "outputs": [],
   "source": [
    "y_pred = model.predict_proba(x_test[50:51], verbose = 0)"
   ]
  },
  {
   "cell_type": "code",
   "execution_count": null,
   "metadata": {
    "collapsed": false
   },
   "outputs": [],
   "source": [
    "y_pred"
   ]
  },
  {
   "cell_type": "code",
   "execution_count": null,
   "metadata": {
    "collapsed": false
   },
   "outputs": [],
   "source": [
    "y_test[50:51]"
   ]
  },
  {
   "cell_type": "code",
   "execution_count": 141,
   "metadata": {
    "collapsed": false
   },
   "outputs": [
    {
     "name": "stdout",
     "output_type": "stream",
     "text": [
      "appdirs==1.4.3\r\n",
      "avro==1.8.1\r\n",
      "backports-abc==0.5\r\n",
      "backports.shutil-get-terminal-size==1.0.0\r\n",
      "beautifulsoup4==4.5.3\r\n",
      "bleach==2.0.0\r\n",
      "brewer2mpl==1.4.1\r\n",
      "bs4==0.0.1\r\n",
      "cachetools==2.0.0\r\n",
      "certifi==2017.4.17\r\n",
      "configparser==3.5.0\r\n",
      "crcmod==1.7\r\n",
      "cycler==0.10.0\r\n",
      "datalab==1.0.1\r\n",
      "decorator==4.0.11\r\n",
      "dill==0.2.6\r\n",
      "entrypoints==0.2.2\r\n",
      "enum34==1.1.6\r\n",
      "funcsigs==1.0.2\r\n",
      "functools32==3.2.3.post2\r\n",
      "future==0.16.0\r\n",
      "futures==3.0.5\r\n",
      "gapic-google-logging-v2==0.9.3\r\n",
      "gapic-google-pubsub-v1==0.9.3\r\n",
      "ggplot==0.6.8\r\n",
      "google-api-python-client==1.5.1\r\n",
      "google-apitools==0.5.9\r\n",
      "google-auth==1.0.0\r\n",
      "google-auth-httplib2==0.0.2\r\n",
      "google-cloud==0.19.0\r\n",
      "google-cloud-bigquery==0.22.1\r\n",
      "google-cloud-core==0.22.1\r\n",
      "google-cloud-dataflow==0.6.0\r\n",
      "google-gax==0.13.0\r\n",
      "googleapis-common-protos==1.5.2\r\n",
      "googledatastore==7.0.0\r\n",
      "grpc-google-logging-v2==0.9.3\r\n",
      "grpc-google-pubsub-v1==0.9.3\r\n",
      "grpcio==1.2.1\r\n",
      "html5lib==0.999999999\r\n",
      "httplib2==0.9.2\r\n",
      "ipykernel==4.5.2\r\n",
      "ipython==5.3.0\r\n",
      "ipython-genutils==0.2.0\r\n",
      "ipywidgets==6.0.0\r\n",
      "Jinja2==2.8\r\n",
      "jsonschema==2.6.0\r\n",
      "jupyter-client==5.0.1\r\n",
      "jupyter-core==4.3.0\r\n",
      "MarkupSafe==1.0\r\n",
      "matplotlib==1.5.3\r\n",
      "mistune==0.7.4\r\n",
      "mltoolbox-datalab-classification-and-regression==1.0.0\r\n",
      "mltoolbox-datalab-image-classification==0.1\r\n",
      "mock==2.0.0\r\n",
      "nbconvert==5.1.1\r\n",
      "nbformat==4.3.0\r\n",
      "nltk==3.2.1\r\n",
      "notebook==4.2.3\r\n",
      "numpy==1.12.1\r\n",
      "oauth2client==2.2.0\r\n",
      "packaging==16.8\r\n",
      "pandas==0.19.1\r\n",
      "pandas-profiling==1.4.0\r\n",
      "pandocfilters==1.4.1\r\n",
      "pathlib2==2.2.1\r\n",
      "patsy==0.4.1\r\n",
      "pbr==3.0.1\r\n",
      "pexpect==4.2.1\r\n",
      "pickleshare==0.7.4\r\n",
      "Pillow==3.4.1\r\n",
      "plotly==1.12.5\r\n",
      "ply==3.8\r\n",
      "prompt-toolkit==1.0.14\r\n",
      "proto-google-cloud-datastore-v1==0.90.0\r\n",
      "protobuf==3.3.0\r\n",
      "psutil==4.3.0\r\n",
      "ptyprocess==0.5.1\r\n",
      "pyasn1==0.2.3\r\n",
      "pyasn1-modules==0.0.8\r\n",
      "Pygments==2.1.3\r\n",
      "pyparsing==2.2.0\r\n",
      "python-dateutil==2.5.0\r\n",
      "pytz==2016.7\r\n",
      "PyYAML==3.11\r\n",
      "pyzmq==16.0.2\r\n",
      "requests==2.9.1\r\n",
      "rsa==3.4.2\r\n",
      "scandir==1.5\r\n",
      "scikit-learn==0.18.1\r\n",
      "scipy==0.18.0\r\n",
      "seaborn==0.7.0\r\n",
      "simplegeneric==0.8.1\r\n",
      "simplejson==3.10.0\r\n",
      "singledispatch==3.4.0.3\r\n",
      "six==1.10.0\r\n",
      "sklearn==0.0\r\n",
      "statsmodels==0.6.1\r\n",
      "sympy==0.7.6.1\r\n",
      "tensorflow==1.1.0\r\n",
      "tensorflow-transform==0.1.7\r\n",
      "terminado==0.6\r\n",
      "testpath==0.3\r\n",
      "tornado==4.4.2\r\n",
      "traitlets==4.3.2\r\n",
      "uritemplate==0.6\r\n",
      "wcwidth==0.1.7\r\n",
      "webencodings==0.5.1\r\n",
      "Werkzeug==0.12.2\r\n",
      "widgetsnbextension==2.0.0\r\n"
     ]
    }
   ],
   "source": [
    "!pip freeze"
   ]
  },
  {
   "cell_type": "code",
   "execution_count": null,
   "metadata": {
    "collapsed": true
   },
   "outputs": [],
   "source": []
  }
 ],
 "metadata": {
  "kernelspec": {
   "display_name": "Python 2",
   "language": "python",
   "name": "python2"
  },
  "language_info": {
   "codemirror_mode": {
    "name": "ipython",
    "version": 2
   },
   "file_extension": ".py",
   "mimetype": "text/x-python",
   "name": "python",
   "nbconvert_exporter": "python",
   "pygments_lexer": "ipython2",
   "version": "2.7.9"
  }
 },
 "nbformat": 4,
 "nbformat_minor": 2
}
